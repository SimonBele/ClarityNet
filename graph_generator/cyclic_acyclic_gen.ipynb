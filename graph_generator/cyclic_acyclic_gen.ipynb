{
 "cells": [
  {
   "cell_type": "code",
   "execution_count": 6,
   "metadata": {},
   "outputs": [
    {
     "name": "stdout",
     "output_type": "stream",
     "text": [
      "q\n"
     ]
    }
   ],
   "source": [
    "print(\"q\")"
   ]
  },
  {
   "cell_type": "code",
   "execution_count": 7,
   "metadata": {},
   "outputs": [],
   "source": [
    "import torch \n",
    "from torch_geometric.data import Data, Dataset\n",
    "import networkx as nx\n",
    "import random"
   ]
  },
  {
   "cell_type": "code",
   "execution_count": 8,
   "metadata": {},
   "outputs": [],
   "source": [
    "def create_initial_graph(n, k):\n",
    "    \"\"\"Create an initial graph with a cycle of size k.\"\"\"\n",
    "    G = nx.cycle_graph(k)\n",
    "    G.add_nodes_from(range(k, n))\n",
    "    return G\n",
    "\n",
    "def is_valid_transition(G, u, v, k):\n",
    "    \"\"\"Check if adding or removing an edge preserves the cycle of size k.\"\"\"\n",
    "    if G.has_edge(u, v):\n",
    "        G.remove_edge(u, v)\n",
    "        has_cycle = any(len(cycle) == k for cycle in nx.simple_cycles(G))\n",
    "        G.add_edge(u, v)\n",
    "        return has_cycle\n",
    "    else:\n",
    "        G.add_edge(u, v)\n",
    "        all_cycles = list(nx.simple_cycles(G))\n",
    "        G.remove_edge(u, v)\n",
    "        return all(len(cycle) == k or len(cycle) < k for cycle in all_cycles)\n",
    "\n",
    "def connect_components(G):\n",
    "    \"\"\"Randomly connect all components of the graph.\"\"\"\n",
    "    components = list(nx.connected_components(G))\n",
    "    while len(components) > 1:\n",
    "        # Randomly select two components\n",
    "        c1, c2 = random.sample(components, 2)\n",
    "        \n",
    "        # Random nodes from each component\n",
    "        n1, n2 = random.choice(list(c1)), random.choice(list(c2))\n",
    "        \n",
    "        # Connect these nodes\n",
    "        G.add_edge(n1, n2)\n",
    "        \n",
    "        # Update components\n",
    "        components = list(nx.connected_components(G))\n",
    "\n",
    "def mcmc_graph_generation(n, k, steps=1000):\n",
    "    \"\"\"Generate a graph using MCMC.\"\"\"\n",
    "    G = create_initial_graph(n, k)\n",
    "\n",
    "    nodes = list(G.nodes())\n",
    "\n",
    "    for i in range(steps):\n",
    "        u, v = random.sample(nodes, 2)\n",
    "        \n",
    "        if is_valid_transition(G, u, v, k):\n",
    "            if G.has_edge(u, v):\n",
    "                G.remove_edge(u, v)\n",
    "            else:\n",
    "                G.add_edge(u, v)\n",
    "        \n",
    "    connect_components(G)\n",
    "    return G\n"
   ]
  },
  {
   "cell_type": "code",
   "execution_count": 10,
   "metadata": {},
   "outputs": [
    {
     "name": "stdout",
     "output_type": "stream",
     "text": [
      "3\n",
      "4\n",
      "5\n",
      "6\n",
      "7\n",
      "8\n",
      "9\n",
      "10\n",
      "11\n",
      "12\n",
      "13\n",
      "14\n",
      "15\n",
      "16\n",
      "17\n",
      "18\n",
      "19\n",
      "20\n"
     ]
    }
   ],
   "source": [
    "graph_list = []\n",
    "for n in range(3, 21):\n",
    "    print(n)\n",
    "    for k in range(3, 8):\n",
    "        if n < k:\n",
    "            continue\n",
    "        for s in range(200):\n",
    "            graph = mcmc_graph_generation(n, k)\n",
    "            graph_list.append(graph)"
   ]
  },
  {
   "cell_type": "code",
   "execution_count": 15,
   "metadata": {},
   "outputs": [],
   "source": [
    "def filter_isomorphic(graphs):\n",
    "    unique_graphs = []\n",
    "    for i, graph1 in enumerate(graphs):\n",
    "        isomorphic = False\n",
    "        for j, graph2 in enumerate(unique_graphs):\n",
    "            if nx.is_isomorphic(graph1, graph2):\n",
    "                isomorphic = True\n",
    "                break\n",
    "        if not isomorphic:\n",
    "            unique_graphs.append(graph1)\n",
    "    return unique_graphs"
   ]
  },
  {
   "cell_type": "code",
   "execution_count": 16,
   "metadata": {},
   "outputs": [],
   "source": [
    "graph_list = filter_isomorphic(graph_list)"
   ]
  },
  {
   "cell_type": "code",
   "execution_count": 17,
   "metadata": {},
   "outputs": [
    {
     "data": {
      "text/plain": [
       "13081"
      ]
     },
     "execution_count": 17,
     "metadata": {},
     "output_type": "execute_result"
    }
   ],
   "source": [
    "len(graph_list)"
   ]
  },
  {
   "cell_type": "code",
   "execution_count": 18,
   "metadata": {},
   "outputs": [],
   "source": [
    "def convert_to_pyg_data(graph, num_node_features):\n",
    "    edge_index = torch.tensor(list(graph.edges()), dtype=torch.long).t().contiguous()\n",
    "    x = torch.ones(graph.number_of_nodes(), num_node_features)  # Example node features\n",
    "    return Data(x=x, edge_index=edge_index)\n",
    "\n",
    "# Assume 'graph_list' is your list of NetworkX graphs\n",
    "num_node_features = 1  # Define the number of node features\n",
    "pyg_data_list = [convert_to_pyg_data(graph, num_node_features) for graph in graph_list]"
   ]
  },
  {
   "cell_type": "code",
   "execution_count": 19,
   "metadata": {},
   "outputs": [],
   "source": [
    "class CyclicGraphDataset(Dataset):\n",
    "    def __init__(self, data_list):\n",
    "        super(CyclicGraphDataset, self).__init__()\n",
    "        self.data_list = data_list\n",
    "\n",
    "    def len(self):\n",
    "        return len(self.data_list)\n",
    "\n",
    "    def get(self, idx):\n",
    "        return self.data_list[idx]\n",
    "\n",
    "# Create the dataset\n",
    "dataset = CyclicGraphDataset(pyg_data_list)\n",
    "torch.save(dataset, 'cyclic_dataset.pt')"
   ]
  },
  {
   "cell_type": "code",
   "execution_count": 21,
   "metadata": {},
   "outputs": [
    {
     "data": {
      "text/plain": [
       "13081"
      ]
     },
     "execution_count": 21,
     "metadata": {},
     "output_type": "execute_result"
    }
   ],
   "source": [
    "len(dataset)"
   ]
  },
  {
   "cell_type": "code",
   "execution_count": null,
   "metadata": {},
   "outputs": [],
   "source": []
  }
 ],
 "metadata": {
  "kernelspec": {
   "display_name": "Python 3.11.5 ('research')",
   "language": "python",
   "name": "python3"
  },
  "language_info": {
   "codemirror_mode": {
    "name": "ipython",
    "version": 3
   },
   "file_extension": ".py",
   "mimetype": "text/x-python",
   "name": "python",
   "nbconvert_exporter": "python",
   "pygments_lexer": "ipython3",
   "version": "3.11.5"
  },
  "orig_nbformat": 4,
  "vscode": {
   "interpreter": {
    "hash": "54a8a4b80f4f70c84f31aca617cda6666e967fece7258fbe31fedfa48a0f63f6"
   }
  }
 },
 "nbformat": 4,
 "nbformat_minor": 2
}
